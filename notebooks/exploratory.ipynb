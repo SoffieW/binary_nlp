{
 "cells": [
  {
   "cell_type": "code",
   "execution_count": 4,
   "id": "7d773132",
   "metadata": {},
   "outputs": [],
   "source": [
    "import sys"
   ]
  },
  {
   "cell_type": "code",
   "execution_count": 5,
   "id": "1c5e24ee",
   "metadata": {},
   "outputs": [
    {
     "data": {
      "text/plain": [
       "['C:\\\\Users\\\\sophi\\\\data_science_projects\\\\binary_nlp_repo\\\\notebooks',\n",
       " 'C:\\\\Users\\\\sophi\\\\anaconda3\\\\python38.zip',\n",
       " 'C:\\\\Users\\\\sophi\\\\anaconda3\\\\DLLs',\n",
       " 'C:\\\\Users\\\\sophi\\\\anaconda3\\\\lib',\n",
       " 'C:\\\\Users\\\\sophi\\\\anaconda3',\n",
       " '',\n",
       " 'C:\\\\Users\\\\sophi\\\\anaconda3\\\\lib\\\\site-packages',\n",
       " 'C:\\\\Users\\\\sophi\\\\anaconda3\\\\lib\\\\site-packages\\\\locket-0.2.1-py3.8.egg',\n",
       " 'C:\\\\Users\\\\sophi\\\\anaconda3\\\\lib\\\\site-packages\\\\win32',\n",
       " 'C:\\\\Users\\\\sophi\\\\anaconda3\\\\lib\\\\site-packages\\\\win32\\\\lib',\n",
       " 'C:\\\\Users\\\\sophi\\\\anaconda3\\\\lib\\\\site-packages\\\\Pythonwin',\n",
       " 'C:\\\\Users\\\\sophi\\\\anaconda3\\\\lib\\\\site-packages\\\\IPython\\\\extensions',\n",
       " 'C:\\\\Users\\\\sophi\\\\.ipython']"
      ]
     },
     "execution_count": 5,
     "metadata": {},
     "output_type": "execute_result"
    }
   ],
   "source": [
    "sys.path"
   ]
  },
  {
   "cell_type": "code",
   "execution_count": 18,
   "id": "b7b6a33a",
   "metadata": {},
   "outputs": [
    {
     "name": "stdout",
     "output_type": "stream",
     "text": [
      "C:\\Users\\sophi\\data_science_projects\\binary_nlp_repo\\src\\data\n"
     ]
    }
   ],
   "source": [
    "%cd C:\\Users\\sophi\\data_science_projects\\binary_nlp_repo\\src\\data\n"
   ]
  },
  {
   "cell_type": "code",
   "execution_count": 24,
   "id": "eb28a899",
   "metadata": {},
   "outputs": [],
   "source": [
    "import make_dataset"
   ]
  },
  {
   "cell_type": "code",
   "execution_count": 28,
   "id": "91f15973",
   "metadata": {},
   "outputs": [
    {
     "name": "stdout",
     "output_type": "stream",
     "text": [
      "hello, Soffie!\n"
     ]
    }
   ],
   "source": [
    "make_dataset.test_funct(\"Soffie\")"
   ]
  },
  {
   "cell_type": "code",
   "execution_count": null,
   "id": "413b0e82",
   "metadata": {},
   "outputs": [],
   "source": []
  }
 ],
 "metadata": {
  "kernelspec": {
   "display_name": "Python 3",
   "language": "python",
   "name": "python3"
  },
  "language_info": {
   "codemirror_mode": {
    "name": "ipython",
    "version": 3
   },
   "file_extension": ".py",
   "mimetype": "text/x-python",
   "name": "python",
   "nbconvert_exporter": "python",
   "pygments_lexer": "ipython3",
   "version": "3.8.8"
  }
 },
 "nbformat": 4,
 "nbformat_minor": 5
}
